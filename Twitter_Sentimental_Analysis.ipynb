{
  "nbformat": 4,
  "nbformat_minor": 0,
  "metadata": {
    "colab": {
      "name": "Twitter_Sentimental_Analysis.ipynb",
      "provenance": []
    },
    "kernelspec": {
      "name": "python3",
      "display_name": "Python 3"
    },
    "accelerator": "GPU"
  },
  "cells": [
    {
      "cell_type": "code",
      "metadata": {
        "id": "tm8Ys85YXPIG",
        "colab_type": "code",
        "outputId": "0c385fff-c14b-4e44-cbb7-81f1b5dd7711",
        "colab": {
          "base_uri": "https://localhost:8080/",
          "height": 34
        }
      },
      "source": [
        "# File Loading and data preprocessing\n",
        "import numpy as np\n",
        "import math\n",
        "import re\n",
        "import time\n",
        "import pandas as pd\n",
        "from bs4 import BeautifulSoup\n",
        "from google.colab import drive\n",
        "\n",
        "# Tensorflow\n",
        "try:\n",
        "  %tensorflow_version 2.x\n",
        "except:\n",
        "  pass\n",
        "import tensorflow as tf\n",
        "from tensorflow.keras import layers\n",
        "import tensorflow_datasets as tfds\n",
        "\n",
        "# Get rid of the warnings\n",
        "import warnings\n",
        "warnings.filterwarnings(\"ignore\")"
      ],
      "execution_count": 1,
      "outputs": [
        {
          "output_type": "stream",
          "text": [
            "TensorFlow 2.x selected.\n"
          ],
          "name": "stdout"
        }
      ]
    },
    {
      "cell_type": "code",
      "metadata": {
        "id": "Hnr67wsraGKi",
        "colab_type": "code",
        "outputId": "d71662e2-37f7-4a67-cf13-8a6ec17745ad",
        "colab": {
          "base_uri": "https://localhost:8080/",
          "height": 34
        }
      },
      "source": [
        "# Loading the test and the training files\n",
        "drive.mount(\"/content/drive\")"
      ],
      "execution_count": 2,
      "outputs": [
        {
          "output_type": "stream",
          "text": [
            "Drive already mounted at /content/drive; to attempt to forcibly remount, call drive.mount(\"/content/drive\", force_remount=True).\n"
          ],
          "name": "stdout"
        }
      ]
    },
    {
      "cell_type": "code",
      "metadata": {
        "id": "0R6pKaJwbCcK",
        "colab_type": "code",
        "colab": {}
      },
      "source": [
        "cols = [\"sentiment\", \"id\", \"date\", \"query\", \"user\", \"text\"]\n",
        "dataset = pd.read_csv(\"/content/drive/My Drive/Twitter Sentimental Analysis/training_set.csv\",\n",
        "                           header = None,\n",
        "                           names = cols,\n",
        "                           engine = \"python\",\n",
        "                           encoding = \"latin1\")\n"
      ],
      "execution_count": 0,
      "outputs": []
    },
    {
      "cell_type": "code",
      "metadata": {
        "id": "Hltjp-8peFEA",
        "colab_type": "code",
        "outputId": "3c96325e-9303-4165-b4fc-fd3d060060f2",
        "colab": {
          "base_uri": "https://localhost:8080/",
          "height": 195
        }
      },
      "source": [
        "dataset.head()"
      ],
      "execution_count": 4,
      "outputs": [
        {
          "output_type": "execute_result",
          "data": {
            "text/html": [
              "<div>\n",
              "<style scoped>\n",
              "    .dataframe tbody tr th:only-of-type {\n",
              "        vertical-align: middle;\n",
              "    }\n",
              "\n",
              "    .dataframe tbody tr th {\n",
              "        vertical-align: top;\n",
              "    }\n",
              "\n",
              "    .dataframe thead th {\n",
              "        text-align: right;\n",
              "    }\n",
              "</style>\n",
              "<table border=\"1\" class=\"dataframe\">\n",
              "  <thead>\n",
              "    <tr style=\"text-align: right;\">\n",
              "      <th></th>\n",
              "      <th>sentiment</th>\n",
              "      <th>id</th>\n",
              "      <th>date</th>\n",
              "      <th>query</th>\n",
              "      <th>user</th>\n",
              "      <th>text</th>\n",
              "    </tr>\n",
              "  </thead>\n",
              "  <tbody>\n",
              "    <tr>\n",
              "      <th>0</th>\n",
              "      <td>0</td>\n",
              "      <td>1467810369</td>\n",
              "      <td>Mon Apr 06 22:19:45 PDT 2009</td>\n",
              "      <td>NO_QUERY</td>\n",
              "      <td>_TheSpecialOne_</td>\n",
              "      <td>@switchfoot http://twitpic.com/2y1zl - Awww, t...</td>\n",
              "    </tr>\n",
              "    <tr>\n",
              "      <th>1</th>\n",
              "      <td>0</td>\n",
              "      <td>1467810672</td>\n",
              "      <td>Mon Apr 06 22:19:49 PDT 2009</td>\n",
              "      <td>NO_QUERY</td>\n",
              "      <td>scotthamilton</td>\n",
              "      <td>is upset that he can't update his Facebook by ...</td>\n",
              "    </tr>\n",
              "    <tr>\n",
              "      <th>2</th>\n",
              "      <td>0</td>\n",
              "      <td>1467810917</td>\n",
              "      <td>Mon Apr 06 22:19:53 PDT 2009</td>\n",
              "      <td>NO_QUERY</td>\n",
              "      <td>mattycus</td>\n",
              "      <td>@Kenichan I dived many times for the ball. Man...</td>\n",
              "    </tr>\n",
              "    <tr>\n",
              "      <th>3</th>\n",
              "      <td>0</td>\n",
              "      <td>1467811184</td>\n",
              "      <td>Mon Apr 06 22:19:57 PDT 2009</td>\n",
              "      <td>NO_QUERY</td>\n",
              "      <td>ElleCTF</td>\n",
              "      <td>my whole body feels itchy and like its on fire</td>\n",
              "    </tr>\n",
              "    <tr>\n",
              "      <th>4</th>\n",
              "      <td>0</td>\n",
              "      <td>1467811193</td>\n",
              "      <td>Mon Apr 06 22:19:57 PDT 2009</td>\n",
              "      <td>NO_QUERY</td>\n",
              "      <td>Karoli</td>\n",
              "      <td>@nationwideclass no, it's not behaving at all....</td>\n",
              "    </tr>\n",
              "  </tbody>\n",
              "</table>\n",
              "</div>"
            ],
            "text/plain": [
              "   sentiment  ...                                               text\n",
              "0          0  ...  @switchfoot http://twitpic.com/2y1zl - Awww, t...\n",
              "1          0  ...  is upset that he can't update his Facebook by ...\n",
              "2          0  ...  @Kenichan I dived many times for the ball. Man...\n",
              "3          0  ...    my whole body feels itchy and like its on fire \n",
              "4          0  ...  @nationwideclass no, it's not behaving at all....\n",
              "\n",
              "[5 rows x 6 columns]"
            ]
          },
          "metadata": {
            "tags": []
          },
          "execution_count": 4
        }
      ]
    },
    {
      "cell_type": "code",
      "metadata": {
        "id": "hZQxYxFVdfJD",
        "colab_type": "code",
        "colab": {}
      },
      "source": [
        "# Data preprocessing\n",
        "data_trimmed = dataset.loc[:, [\"sentiment\", \"text\"]]\n",
        "\n",
        "\n",
        "del dataset"
      ],
      "execution_count": 0,
      "outputs": []
    },
    {
      "cell_type": "code",
      "metadata": {
        "id": "r0mLZa3FeenC",
        "colab_type": "code",
        "colab": {}
      },
      "source": [
        "def tweet_processing(tweet):\n",
        "  tweet = BeautifulSoup(tweet, \"lxml\").get_text()\n",
        "  # geting rid of all the @ mentions\n",
        "  tweet = re.sub(r\"@[a-zA-Z0-9]+\", \" \", tweet)\n",
        "  # getting rid of the url links\n",
        "  tweet = re.sub(r\"https?://[A-Za-z0-9./]+\", \" \", tweet)\n",
        "  tweet = re.sub(r\"[^a-zA-Z.!?']\", \" \", tweet)\n",
        "  tweet = re.sub(r\" +\", \" \", tweet)\n",
        "  return tweet"
      ],
      "execution_count": 0,
      "outputs": []
    },
    {
      "cell_type": "code",
      "metadata": {
        "id": "cOhnNmnfGrI0",
        "colab_type": "code",
        "outputId": "25263edd-ef4a-4bed-b95a-418d07e47030",
        "colab": {
          "base_uri": "https://localhost:8080/",
          "height": 67
        }
      },
      "source": [
        "data_trimmed[\"sentiment\"].value_counts()"
      ],
      "execution_count": 7,
      "outputs": [
        {
          "output_type": "execute_result",
          "data": {
            "text/plain": [
              "4    800000\n",
              "0    800000\n",
              "Name: sentiment, dtype: int64"
            ]
          },
          "metadata": {
            "tags": []
          },
          "execution_count": 7
        }
      ]
    },
    {
      "cell_type": "code",
      "metadata": {
        "id": "zGHp41dh-4_S",
        "colab_type": "code",
        "colab": {}
      },
      "source": [
        "# Create a list of twitter texts\n",
        "data_cleaned = [tweet_processing(tweet) for tweet in data_trimmed[\"text\"]]"
      ],
      "execution_count": 0,
      "outputs": []
    },
    {
      "cell_type": "code",
      "metadata": {
        "id": "Gel_K_HINqmv",
        "colab_type": "code",
        "colab": {}
      },
      "source": [
        "# Fix the label for sentiments to 0 and 1 instead of 0 and 4\n",
        "sentiment_labels = data_trimmed.sentiment.values\n",
        "sentiment_labels[sentiment_labels == 4] = 1"
      ],
      "execution_count": 0,
      "outputs": []
    },
    {
      "cell_type": "code",
      "metadata": {
        "id": "Wp0a4FM8KhxG",
        "colab_type": "code",
        "colab": {}
      },
      "source": [
        "# Tokenization\n",
        "tokenizer = tfds.features.text.SubwordTextEncoder.build_from_corpus(\n",
        "    data_cleaned, target_vocab_size = 64000\n",
        ")\n",
        "data_inputs = [tokenizer.encode(tweet) for tweet in data_cleaned]"
      ],
      "execution_count": 0,
      "outputs": []
    },
    {
      "cell_type": "code",
      "metadata": {
        "id": "W1Spwi7dNFWp",
        "colab_type": "code",
        "colab": {}
      },
      "source": [
        "# Padding: add paddings to each sentence to ensure that they all have the same length (good for batch processing)\n",
        "max_length = max([len(sentence) for sentence in data_inputs])\n",
        "data_inputs = tf.keras.preprocessing.sequence.pad_sequences(data_inputs, value = 0, \n",
        "                                                            padding = \"post\", \n",
        "                                                            maxlen = max_length)\n"
      ],
      "execution_count": 0,
      "outputs": []
    },
    {
      "cell_type": "code",
      "metadata": {
        "id": "qhrTo6nAR3bT",
        "colab_type": "code",
        "outputId": "eb76b588-44ee-4959-a76f-b112f7476b04",
        "colab": {
          "base_uri": "https://localhost:8080/",
          "height": 34
        }
      },
      "source": [
        "type(len(data_inputs))"
      ],
      "execution_count": 12,
      "outputs": [
        {
          "output_type": "execute_result",
          "data": {
            "text/plain": [
              "int"
            ]
          },
          "metadata": {
            "tags": []
          },
          "execution_count": 12
        }
      ]
    },
    {
      "cell_type": "code",
      "metadata": {
        "id": "dRrMi3MVOS7y",
        "colab_type": "code",
        "colab": {}
      },
      "source": [
        "# Splitting data to training set and test set\n",
        "# Check how many tweets there are in total\n",
        "num_tweets = len(data_inputs)\n",
        "\n",
        "# I will use 1 percent of the total tweets as the test set and the remaining as training set\n",
        "test_id_negative = np.random.randint(0, int(num_tweets/2), int(num_tweets/200)).astype(int)\n",
        "test_id_positive = np.random.randint(int(num_tweets/2), num_tweets, int(num_tweets/200)).astype(int)\n",
        "test_id_total = np.concatenate((test_id_negative, test_id_positive))"
      ],
      "execution_count": 0,
      "outputs": []
    },
    {
      "cell_type": "code",
      "metadata": {
        "id": "xCjuy0W-RcCD",
        "colab_type": "code",
        "colab": {}
      },
      "source": [
        "# Test set\n",
        "test_inputs = data_inputs[test_id_total]\n",
        "test_labels = sentiment_labels[test_id_total]"
      ],
      "execution_count": 0,
      "outputs": []
    },
    {
      "cell_type": "code",
      "metadata": {
        "id": "8jrsGvzTUVtt",
        "colab_type": "code",
        "colab": {}
      },
      "source": [
        "# Training set\n",
        "training_inputs = np.delete(data_inputs, test_id_total, axis = 0)\n",
        "training_labels = np.delete(sentiment_labels, test_id_total, axis = 0)"
      ],
      "execution_count": 0,
      "outputs": []
    },
    {
      "cell_type": "markdown",
      "metadata": {
        "id": "ZCmt7UP8XH-h",
        "colab_type": "text"
      },
      "source": [
        "### Building the CNN Model for the Natural Language Processing"
      ]
    },
    {
      "cell_type": "code",
      "metadata": {
        "id": "4t9Yehc_XMdB",
        "colab_type": "code",
        "colab": {}
      },
      "source": [
        "class Deep_CNN(tf.keras.Model):\n",
        "  def __init__(self, \n",
        "               vocab_size,\n",
        "               embedding_dim = 128,\n",
        "               nb_filters = 50,\n",
        "               Feed_Forward_N_units = 512,\n",
        "               nb_classes = 2,\n",
        "               dropout_rate = 0.1,\n",
        "               training = False,\n",
        "               name = \"deep_cnn\"):\n",
        "    \n",
        "    super(Deep_CNN, self).__init__(name = name)\n",
        "\n",
        "    # defining the three different convolutional filter layers and pooling layers\n",
        "    self.embedding = layers.Embedding(vocab_size,\n",
        "                                      embedding_dim\n",
        "                                      )\n",
        "    self.bigram = layers.Conv1D(filters = nb_filters,\n",
        "                                kernel_size = 2,\n",
        "                                padding = \"valid\",\n",
        "                                activation = \"relu\"\n",
        "                                )\n",
        "    self.pool_1 = layers.GlobalMaxPool1D()\n",
        "\n",
        "    self.trigram = layers.Conv1D(filters = nb_filters,\n",
        "                                 kernel_size = 3,\n",
        "                                 padding = \"valid\",\n",
        "                                 activation = \"relu\"\n",
        "                                 )\n",
        "    self.pool_2 = layers.GlobalMaxPool1D()\n",
        "\n",
        "    self.fourgram = layers.Conv1D(filters = nb_filters,\n",
        "                                 kernel_size = 4,\n",
        "                                 padding = \"valid\",\n",
        "                                 activation = \"relu\"\n",
        "                                 )\n",
        "    self.pool_3 = layers.GlobalMaxPool1D()\n",
        "\n",
        "    # Define the first dense feed-forward layer\n",
        "    self.dense_1 = layers.Dense(units = Feed_Forward_N_units,\n",
        "                                activation = \"relu\"\n",
        "                                )\n",
        "    # Add a dropout layer\n",
        "    self.dropout_1 = layers.Dropout(rate = dropout_rate)\n",
        "\n",
        "    # Define the second/last dense feed-forward layer\n",
        "    if nb_classes == 2:\n",
        "      self.last_dense = layers.Dense(units = 1,\n",
        "                                     activation = \"sigmoid\",\n",
        "                                    )\n",
        "    elif nb_classes > 2:\n",
        "      self.last_dense = layers.Dense(units = nb_classes,\n",
        "                                     activation = \"softmax\")\n",
        "  def call(self, inputs, training):\n",
        "    x = self.embedding(inputs)\n",
        "    x_1 = self.bigram(x)\n",
        "    x_1 = self.pool_1(x_1)\n",
        "    x_2 = self.trigram(x)\n",
        "    x_2 = self.pool_2(x_2)\n",
        "    x_3 = self.fourgram(x)\n",
        "    x_3 = self.pool_3(x_3)\n",
        "\n",
        "    merged = tf.concat([x_1, x_2, x_3], axis = -1)\n",
        "    merged = self.dense_1(merged)\n",
        "    merged = self.dropout_1(merged, training)\n",
        "    output = self.last_dense(merged)\n",
        "\n",
        "    return output"
      ],
      "execution_count": 0,
      "outputs": []
    },
    {
      "cell_type": "code",
      "metadata": {
        "id": "fBkukEG-g7uz",
        "colab_type": "code",
        "colab": {}
      },
      "source": [
        "# Initialize global variables\n",
        "vocab_size = tokenizer.vocab_size\n",
        "embedding_dim = 200\n",
        "nb_filters = 100\n",
        "Feed_Forward_N_units = 256\n",
        "nb_classes = len(set(training_labels))\n",
        "dropout_rate = 0.2\n",
        "batch_size = 32\n",
        "epochs = 10\n"
      ],
      "execution_count": 0,
      "outputs": []
    },
    {
      "cell_type": "code",
      "metadata": {
        "id": "9Ob-bpSVk_-D",
        "colab_type": "code",
        "colab": {}
      },
      "source": [
        "# Train the model\n",
        "DCNN = Deep_CNN(vocab_size = vocab_size,\n",
        "                embedding_dim = embedding_dim,\n",
        "                nb_filters = nb_filters,\n",
        "                Feed_Forward_N_units = Feed_Forward_N_units,\n",
        "                nb_classes = nb_classes,\n",
        "                dropout_rate = dropout_rate\n",
        "                )"
      ],
      "execution_count": 0,
      "outputs": []
    },
    {
      "cell_type": "code",
      "metadata": {
        "id": "6eBHbE-Olyyo",
        "colab_type": "code",
        "colab": {}
      },
      "source": [
        "if nb_classes == 2:\n",
        "  DCNN.compile(loss = \"binary_crossentropy\",\n",
        "               optimizer = \"adam\",\n",
        "               metrics = [\"accuracy\"])\n",
        "  \n",
        "elif nb_classes > 2:\n",
        "  DCNN.compile(loss = \"sparse_categorical_crossentropy\",\n",
        "               optimizer = \"adam\",\n",
        "               metrics = [\"sparse_categorical_accuracy\"])"
      ],
      "execution_count": 0,
      "outputs": []
    },
    {
      "cell_type": "code",
      "metadata": {
        "id": "M5UmblRfnXyL",
        "colab_type": "code",
        "colab": {}
      },
      "source": [
        "checkpoint_path = \"/content/drive/My Drive/Twitter Sentimental Analysis/saves/\"\n",
        "ckpt = tf.train.Checkpoint(DCNN = DCNN)\n",
        "ckpt_manager = tf.train.CheckpointManager(ckpt, checkpoint_path, max_to_keep = 1)\n",
        "\n",
        "if ckpt_manager.latest_checkpoint:\n",
        "  ckpt.restore(ckpt_manager.latest_checkpoint)\n",
        "  print(\"The Latest Checkpoint has been restored!\")\n",
        "\n",
        "\n"
      ],
      "execution_count": 0,
      "outputs": []
    },
    {
      "cell_type": "code",
      "metadata": {
        "id": "n1v1ehUtplPi",
        "colab_type": "code",
        "colab": {
          "base_uri": "https://localhost:8080/",
          "height": 67
        },
        "outputId": "26cdb618-e751-46f0-bb78-83288085e6cd"
      },
      "source": [
        "# Fit the model:\n",
        "DCNN.fit(training_inputs, \n",
        "         training_labels, \n",
        "         batch_size = batch_size,\n",
        "         epochs = epochs\n",
        "         )\n",
        "ckpt_manager.save()"
      ],
      "execution_count": 0,
      "outputs": [
        {
          "output_type": "stream",
          "text": [
            "Train on 1584078 samples\n",
            "Epoch 1/10\n",
            " 872128/1584078 [===============>..............] - ETA: 45:37 - loss: 0.4131 - accuracy: 0.8110"
          ],
          "name": "stdout"
        }
      ]
    },
    {
      "cell_type": "code",
      "metadata": {
        "id": "0ZQJ5Zs8xEpR",
        "colab_type": "code",
        "colab": {}
      },
      "source": [
        "# Evaluation\n",
        "accuracy_results = DCNN.evaluate(test_inputs, test_labels, batch_size = batch_size)\n",
        "print(accuracy_results)"
      ],
      "execution_count": 0,
      "outputs": []
    },
    {
      "cell_type": "code",
      "metadata": {
        "id": "ps3HvpXvy7YA",
        "colab_type": "code",
        "colab": {}
      },
      "source": [
        "# Testing with custom sentences\n",
        "# (This is a recent tweet from presidential candidate Bernie Sanders)\n",
        "DCNN(np.array(tokenizer.encode(\"I'm proud to have opposed all of Trump's military budgets.\")), training = False).numpy()"
      ],
      "execution_count": 0,
      "outputs": []
    }
  ]
}